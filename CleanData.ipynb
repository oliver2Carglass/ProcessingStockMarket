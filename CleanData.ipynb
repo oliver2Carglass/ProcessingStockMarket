{
 "cells": [
  {
   "cell_type": "markdown",
   "metadata": {},
   "source": [
    "# Data Cleaning :\n",
    "\n",
    "\n",
    "This File Is Bout Data Cleaning, creating function to restructure and complete missing data"
   ]
  },
  {
   "cell_type": "code",
   "execution_count": null,
   "metadata": {},
   "outputs": [],
   "source": [
    "# Importation :\n",
    "import pandas as pd"
   ]
  },
  {
   "cell_type": "markdown",
   "metadata": {},
   "source": [
    "## 1.Create a restructure function to drop useless lvl :"
   ]
  },
  {
   "cell_type": "code",
   "execution_count": null,
   "metadata": {},
   "outputs": [],
   "source": [
    "def restructure_df(df):\n",
    "    # Verify if fist colunm name is price\n",
    "    if df.columns[0] == \"Price\":\n",
    "        df = df.drop(index=0).reset_index(drop=True)\n",
    "        df = df.drop(index=0).reset_index(drop=True)\n",
    "        df = df.rename(columns={\"Price\": \"Date\"})\n",
    "    else:\n",
    "        print(\"Already have a good format.\")\n",
    "    \n",
    "    return df\n"
   ]
  },
  {
   "cell_type": "code",
   "execution_count": 19,
   "metadata": {},
   "outputs": [
    {
     "data": {
      "text/html": [
       "<div>\n",
       "<style scoped>\n",
       "    .dataframe tbody tr th:only-of-type {\n",
       "        vertical-align: middle;\n",
       "    }\n",
       "\n",
       "    .dataframe tbody tr th {\n",
       "        vertical-align: top;\n",
       "    }\n",
       "\n",
       "    .dataframe thead th {\n",
       "        text-align: right;\n",
       "    }\n",
       "</style>\n",
       "<table border=\"1\" class=\"dataframe\">\n",
       "  <thead>\n",
       "    <tr style=\"text-align: right;\">\n",
       "      <th></th>\n",
       "      <th>Date</th>\n",
       "      <th>Close</th>\n",
       "      <th>High</th>\n",
       "      <th>Low</th>\n",
       "      <th>Open</th>\n",
       "      <th>Volume</th>\n",
       "    </tr>\n",
       "  </thead>\n",
       "  <tbody>\n",
       "    <tr>\n",
       "      <th>0</th>\n",
       "      <td>2000-01-03</td>\n",
       "      <td>1455.219970703125</td>\n",
       "      <td>1478.0</td>\n",
       "      <td>1438.3599853515625</td>\n",
       "      <td>1469.25</td>\n",
       "      <td>931800000</td>\n",
       "    </tr>\n",
       "    <tr>\n",
       "      <th>1</th>\n",
       "      <td>2000-01-04</td>\n",
       "      <td>1399.4200439453125</td>\n",
       "      <td>1455.219970703125</td>\n",
       "      <td>1397.4300537109375</td>\n",
       "      <td>1455.219970703125</td>\n",
       "      <td>1009000000</td>\n",
       "    </tr>\n",
       "    <tr>\n",
       "      <th>2</th>\n",
       "      <td>2000-01-05</td>\n",
       "      <td>1402.1099853515625</td>\n",
       "      <td>1413.27001953125</td>\n",
       "      <td>1377.6800537109375</td>\n",
       "      <td>1399.4200439453125</td>\n",
       "      <td>1085500000</td>\n",
       "    </tr>\n",
       "    <tr>\n",
       "      <th>3</th>\n",
       "      <td>2000-01-06</td>\n",
       "      <td>1403.449951171875</td>\n",
       "      <td>1411.9000244140625</td>\n",
       "      <td>1392.0999755859375</td>\n",
       "      <td>1402.1099853515625</td>\n",
       "      <td>1092300000</td>\n",
       "    </tr>\n",
       "    <tr>\n",
       "      <th>4</th>\n",
       "      <td>2000-01-07</td>\n",
       "      <td>1441.469970703125</td>\n",
       "      <td>1441.469970703125</td>\n",
       "      <td>1400.72998046875</td>\n",
       "      <td>1403.449951171875</td>\n",
       "      <td>1225200000</td>\n",
       "    </tr>\n",
       "    <tr>\n",
       "      <th>...</th>\n",
       "      <td>...</td>\n",
       "      <td>...</td>\n",
       "      <td>...</td>\n",
       "      <td>...</td>\n",
       "      <td>...</td>\n",
       "      <td>...</td>\n",
       "    </tr>\n",
       "    <tr>\n",
       "      <th>6283</th>\n",
       "      <td>2024-12-23</td>\n",
       "      <td>5974.06982421875</td>\n",
       "      <td>5978.25</td>\n",
       "      <td>5902.56982421875</td>\n",
       "      <td>5940.25</td>\n",
       "      <td>3593280000</td>\n",
       "    </tr>\n",
       "    <tr>\n",
       "      <th>6284</th>\n",
       "      <td>2024-12-24</td>\n",
       "      <td>6040.0400390625</td>\n",
       "      <td>6040.10009765625</td>\n",
       "      <td>5981.43994140625</td>\n",
       "      <td>5984.6298828125</td>\n",
       "      <td>1757720000</td>\n",
       "    </tr>\n",
       "    <tr>\n",
       "      <th>6285</th>\n",
       "      <td>2024-12-26</td>\n",
       "      <td>6037.58984375</td>\n",
       "      <td>6049.75</td>\n",
       "      <td>6007.3701171875</td>\n",
       "      <td>6024.97021484375</td>\n",
       "      <td>2904530000</td>\n",
       "    </tr>\n",
       "    <tr>\n",
       "      <th>6286</th>\n",
       "      <td>2024-12-27</td>\n",
       "      <td>5970.83984375</td>\n",
       "      <td>6006.169921875</td>\n",
       "      <td>5932.9501953125</td>\n",
       "      <td>6006.169921875</td>\n",
       "      <td>3159610000</td>\n",
       "    </tr>\n",
       "    <tr>\n",
       "      <th>6287</th>\n",
       "      <td>2024-12-30</td>\n",
       "      <td>5906.93994140625</td>\n",
       "      <td>5940.7900390625</td>\n",
       "      <td>5869.16015625</td>\n",
       "      <td>5920.669921875</td>\n",
       "      <td>3433250000</td>\n",
       "    </tr>\n",
       "  </tbody>\n",
       "</table>\n",
       "<p>6288 rows × 6 columns</p>\n",
       "</div>"
      ],
      "text/plain": [
       "            Date               Close                High                 Low  \\\n",
       "0     2000-01-03   1455.219970703125              1478.0  1438.3599853515625   \n",
       "1     2000-01-04  1399.4200439453125   1455.219970703125  1397.4300537109375   \n",
       "2     2000-01-05  1402.1099853515625    1413.27001953125  1377.6800537109375   \n",
       "3     2000-01-06   1403.449951171875  1411.9000244140625  1392.0999755859375   \n",
       "4     2000-01-07   1441.469970703125   1441.469970703125    1400.72998046875   \n",
       "...          ...                 ...                 ...                 ...   \n",
       "6283  2024-12-23    5974.06982421875             5978.25    5902.56982421875   \n",
       "6284  2024-12-24     6040.0400390625    6040.10009765625    5981.43994140625   \n",
       "6285  2024-12-26       6037.58984375             6049.75     6007.3701171875   \n",
       "6286  2024-12-27       5970.83984375      6006.169921875     5932.9501953125   \n",
       "6287  2024-12-30    5906.93994140625     5940.7900390625       5869.16015625   \n",
       "\n",
       "                    Open      Volume  \n",
       "0                1469.25   931800000  \n",
       "1      1455.219970703125  1009000000  \n",
       "2     1399.4200439453125  1085500000  \n",
       "3     1402.1099853515625  1092300000  \n",
       "4      1403.449951171875  1225200000  \n",
       "...                  ...         ...  \n",
       "6283             5940.25  3593280000  \n",
       "6284     5984.6298828125  1757720000  \n",
       "6285    6024.97021484375  2904530000  \n",
       "6286      6006.169921875  3159610000  \n",
       "6287      5920.669921875  3433250000  \n",
       "\n",
       "[6288 rows x 6 columns]"
      ]
     },
     "execution_count": 19,
     "metadata": {},
     "output_type": "execute_result"
    }
   ],
   "source": [
    "sp500 = pd.read_csv('data/stockMarket/SP500_data.csv')\n",
    "sp500= restructure_df(sp500)\n",
    "sp500"
   ]
  },
  {
   "cell_type": "markdown",
   "metadata": {},
   "source": [
    "## 2.Create a missing value function handler"
   ]
  },
  {
   "cell_type": "code",
   "execution_count": 17,
   "metadata": {},
   "outputs": [],
   "source": [
    "def missing_values(df, dates):\n",
    "    # Ensure the 'Date' column is in datetime format\n",
    "    df['Date'] = pd.to_datetime(df['Date'])\n",
    "\n",
    "    # Extract unique years from the DataFrame\n",
    "    years_in_df = df['Date'].dt.year.unique()\n",
    "    years_in_df = sorted(years_in_df)\n",
    "\n",
    "    # Define expected range from [min, max]\n",
    "    expected_years = list(range(dates[0], dates[1] + 1))\n",
    "\n",
    "    # Print range info\n",
    "    print(f\"Years in DataFrame: {years_in_df[0]} to {years_in_df[-1]}\")\n",
    "    print(f\"Expected range: {dates[0]} to {dates[1]}\")\n",
    "\n",
    "    # Identify missing years\n",
    "    missing = [year for year in expected_years if year not in years_in_df]\n",
    "    \n",
    "    if missing:\n",
    "\n",
    "        return missing\n",
    "    else:\n",
    "        \n",
    "        return []\n",
    "\n"
   ]
  },
  {
   "cell_type": "code",
   "execution_count": 21,
   "metadata": {},
   "outputs": [
    {
     "name": "stdout",
     "output_type": "stream",
     "text": [
      "Years in DataFrame: 2000 to 2024\n",
      "Expected range: 2000 to 2024\n"
     ]
    },
    {
     "data": {
      "text/plain": [
       "[]"
      ]
     },
     "execution_count": 21,
     "metadata": {},
     "output_type": "execute_result"
    }
   ],
   "source": [
    "missing_values(sp500, [2000, 2024])\n"
   ]
  }
 ],
 "metadata": {
  "kernelspec": {
   "display_name": "base",
   "language": "python",
   "name": "python3"
  },
  "language_info": {
   "codemirror_mode": {
    "name": "ipython",
    "version": 3
   },
   "file_extension": ".py",
   "mimetype": "text/x-python",
   "name": "python",
   "nbconvert_exporter": "python",
   "pygments_lexer": "ipython3",
   "version": "3.11.7"
  }
 },
 "nbformat": 4,
 "nbformat_minor": 2
}
